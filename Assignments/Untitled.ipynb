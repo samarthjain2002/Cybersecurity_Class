{
 "cells": [
  {
   "cell_type": "code",
   "execution_count": 1,
   "id": "e422fe47",
   "metadata": {},
   "outputs": [
    {
     "data": {
      "text/plain": [
       "'C:\\\\Users\\\\Admin\\\\Documents\\\\Cybersecurity_Class\\\\Assignments'"
      ]
     },
     "execution_count": 1,
     "metadata": {},
     "output_type": "execute_result"
    }
   ],
   "source": [
    "pwd"
   ]
  },
  {
   "cell_type": "code",
   "execution_count": 7,
   "id": "41a7af0d",
   "metadata": {},
   "outputs": [
    {
     "name": "stdout",
     "output_type": "stream",
     "text": [
      ".ipynb_checkpoints\n",
      "Untitled.ipynb\n",
      "[Day 1 - Thursday] 17-08-2023 [Theory]\n",
      "[Day 10 - Wednesday] 30-08-2023 [OWASP Broken Web Application]\n",
      "[Day 14 - Tuesday] 05-09-2023 [SQL Injection Vulnerability]\n",
      "[Day 15 - Wednesday] 06-09-2023 [Fuzzing]\n",
      "[Day 16 - Thursday] 07-09-2023 [Multi-point Fuzzing]\n",
      "[Day 17 - Friday] 08-09-2023 [Horizontal & Vertical Privilege Escalation]\n",
      "[Day 18 - Monday] 11-09-2023 [Spidering]\n",
      "[Day 19 - Tuesday] 12-09-2023 [Identifying IP address]\n",
      "[Day 2 - Friday] 18-08-2023 [PIG]\n",
      "[Day 20 - Wednesday] 13-09-2023 [Exploiting Mr. Robot VM]\n",
      "[Day 21 - Thursday] 14-09-2023 [Privilege Escalation in Mr. Robot VM]\n",
      "[Day 3 - Monday] 21-08-2023 [Port Scanning]\n",
      "[Day 4 - Tuesday] 22-08-2023 [Vulnerability Scanning]\n",
      "[Day 5 - Wednesday] 23-08-2023 [Exploitation]\n",
      "[Day 6 - Thursday] 24-08-2023 [Manual Vulnerability Scanning]\n",
      "[Day 7 - Friday] 25-08-2023 [Theory]\n",
      "[Day 8 - Monday] 28-08-2023 [Configuring BurpSuite]\n",
      "[Day 9 - Tuesday] 29-08-2023 [Web Application Hacking]\n"
     ]
    }
   ],
   "source": [
    "import os\n",
    "\n",
    "# Specify the directory path\n",
    "directory_path = 'C:\\\\Users\\\\Admin\\\\Documents\\\\Cybersecurity_Class\\\\Assignments'\n",
    "\n",
    "# Use os.listdir() to get a list of all files and directories in the specified directory\n",
    "file_list = os.listdir(directory_path)\n",
    "\n",
    "# Filter out only the files from the list\n",
    "#files = [file for file in file_list if os.path.isfile(os.path.join(directory_path, file))]\n",
    "# Print the list of files\n",
    "#for file in files:\n",
    "#    print(file)\n",
    "\n",
    "sorted_files = sorted(file_list)\n",
    "\n",
    "for file in sorted_files:\n",
    "    print(file)"
   ]
  },
  {
   "cell_type": "code",
   "execution_count": 11,
   "id": "15522c58",
   "metadata": {},
   "outputs": [
    {
     "name": "stdout",
     "output_type": "stream",
     "text": [
      ".ipynb_checkpoints\n",
      "[Day 1 - Thursday] 17-08-2023 [Theory]\n",
      "[Day 10 - Wednesday] 30-08-2023 [OWASP Broken Web Application]\n",
      "[Day 14 - Tuesday] 05-09-2023 [SQL Injection Vulnerability]\n",
      "[Day 15 - Wednesday] 06-09-2023 [Fuzzing]\n",
      "[Day 16 - Thursday] 07-09-2023 [Multi-point Fuzzing]\n",
      "[Day 17 - Friday] 08-09-2023 [Horizontal & Vertical Privilege Escalation]\n",
      "[Day 18 - Monday] 11-09-2023 [Spidering]\n",
      "[Day 19 - Tuesday] 12-09-2023 [Identifying IP address]\n",
      "[Day 2 - Friday] 18-08-2023 [PIG]\n",
      "[Day 20 - Wednesday] 13-09-2023 [Exploiting Mr. Robot VM]\n",
      "[Day 21 - Thursday] 14-09-2023 [Privilege Escalation in Mr. Robot VM]\n",
      "[Day 3 - Monday] 21-08-2023 [Port Scanning]\n",
      "[Day 4 - Tuesday] 22-08-2023 [Vulnerability Scanning]\n",
      "[Day 5 - Wednesday] 23-08-2023 [Exploitation]\n",
      "[Day 6 - Thursday] 24-08-2023 [Manual Vulnerability Scanning]\n",
      "[Day 7 - Friday] 25-08-2023 [Theory]\n",
      "[Day 8 - Monday] 28-08-2023 [Configuring BurpSuite]\n",
      "[Day 9 - Tuesday] 29-08-2023 [Web Application Hacking]\n",
      "Untitled.ipynb\n",
      "Untitled1.ipynb\n"
     ]
    }
   ],
   "source": [
    "import os\n",
    "\n",
    "# Specify the directory path you want to list\n",
    "directory_path = 'C:\\\\Users\\\\Admin\\\\Documents\\\\Cybersecurity_Class\\\\Assignments'\n",
    "\n",
    "# List all files and directories in the specified directory\n",
    "files_and_directories = os.listdir(directory_path)\n",
    "\n",
    "# Sort the list alphabetically (directories first, then files)\n",
    "sorted_files_and_directories = sorted(files_and_directories, key=lambda x: (not os.path.isdir(os.path.join(directory_path, x)), x))\n",
    "\n",
    "# Print the sorted list\n",
    "for item in sorted_files_and_directories:\n",
    "    print(item)\n"
   ]
  },
  {
   "cell_type": "code",
   "execution_count": 14,
   "id": "6cc27e07",
   "metadata": {},
   "outputs": [
    {
     "ename": "ModuleNotFoundError",
     "evalue": "No module named 'natsort'",
     "output_type": "error",
     "traceback": [
      "\u001b[1;31m---------------------------------------------------------------------------\u001b[0m",
      "\u001b[1;31mModuleNotFoundError\u001b[0m                       Traceback (most recent call last)",
      "\u001b[1;32m<ipython-input-14-a3c5f1a2d082>\u001b[0m in \u001b[0;36m<module>\u001b[1;34m\u001b[0m\n\u001b[0;32m      1\u001b[0m \u001b[1;32mimport\u001b[0m \u001b[0mos\u001b[0m\u001b[1;33m\u001b[0m\u001b[1;33m\u001b[0m\u001b[0m\n\u001b[1;32m----> 2\u001b[1;33m \u001b[1;32mfrom\u001b[0m \u001b[0mnatsort\u001b[0m \u001b[1;32mimport\u001b[0m \u001b[0mnatsorted\u001b[0m\u001b[1;33m\u001b[0m\u001b[1;33m\u001b[0m\u001b[0m\n\u001b[0m\u001b[0;32m      3\u001b[0m \u001b[1;33m\u001b[0m\u001b[0m\n\u001b[0;32m      4\u001b[0m \u001b[1;31m# Specify the directory path you want to list\u001b[0m\u001b[1;33m\u001b[0m\u001b[1;33m\u001b[0m\u001b[1;33m\u001b[0m\u001b[0m\n\u001b[0;32m      5\u001b[0m \u001b[0mdirectory_path\u001b[0m \u001b[1;33m=\u001b[0m \u001b[1;34m'C:\\\\Users\\\\Admin\\\\Documents\\\\Cybersecurity_Class\\\\Assignments'\u001b[0m\u001b[1;33m\u001b[0m\u001b[1;33m\u001b[0m\u001b[0m\n",
      "\u001b[1;31mModuleNotFoundError\u001b[0m: No module named 'natsort'"
     ]
    }
   ],
   "source": []
  },
  {
   "cell_type": "code",
   "execution_count": 15,
   "id": "649fb07d",
   "metadata": {},
   "outputs": [
    {
     "name": "stdout",
     "output_type": "stream",
     "text": [
      "Collecting natsortNote: you may need to restart the kernel to use updated packages.\n",
      "  Downloading natsort-8.4.0-py3-none-any.whl (38 kB)\n",
      "Installing collected packages: natsort\n",
      "Successfully installed natsort-8.4.0\n",
      "\n"
     ]
    }
   ],
   "source": [
    "pip install natsort"
   ]
  },
  {
   "cell_type": "code",
   "execution_count": 17,
   "id": "8818921c",
   "metadata": {},
   "outputs": [
    {
     "name": "stdout",
     "output_type": "stream",
     "text": [
      ".ipynb_checkpoints\n",
      "Untitled.ipynb\n",
      "[Day 1 - Thursday] 17-08-2023 [Theory]\n",
      "[Day 2 - Friday] 18-08-2023 [PIG]\n",
      "[Day 3 - Monday] 21-08-2023 [Port Scanning]\n",
      "[Day 4 - Tuesday] 22-08-2023 [Vulnerability Scanning]\n",
      "[Day 5 - Wednesday] 23-08-2023 [Exploitation]\n",
      "[Day 6 - Thursday] 24-08-2023 [Manual Vulnerability Scanning]\n",
      "[Day 7 - Friday] 25-08-2023 [Theory]\n",
      "[Day 8 - Monday] 28-08-2023 [Configuring BurpSuite]\n",
      "[Day 9 - Tuesday] 29-08-2023 [Web Application Hacking]\n",
      "[Day 10 - Wednesday] 30-08-2023 [OWASP Broken Web Application]\n",
      "[Day 14 - Tuesday] 05-09-2023 [SQL Injection Vulnerability]\n",
      "[Day 15 - Wednesday] 06-09-2023 [Fuzzing]\n",
      "[Day 16 - Thursday] 07-09-2023 [Multi-point Fuzzing]\n",
      "[Day 17 - Friday] 08-09-2023 [Horizontal & Vertical Privilege Escalation]\n",
      "[Day 18 - Monday] 11-09-2023 [Spidering]\n",
      "[Day 19 - Tuesday] 12-09-2023 [Identifying IP address]\n",
      "[Day 20 - Wednesday] 13-09-2023 [Exploiting Mr. Robot VM]\n",
      "[Day 21 - Thursday] 14-09-2023 [Privilege Escalation in Mr. Robot VM]\n"
     ]
    }
   ],
   "source": [
    "import os\n",
    "from natsort import natsorted\n",
    "\n",
    "# Specify the directory path you want to list\n",
    "directory_path = 'C:\\\\Users\\\\Admin\\\\Documents\\\\Cybersecurity_Class\\\\Assignments'\n",
    "\n",
    "# List all files and directories in the specified directory\n",
    "files_and_directories = os.listdir(directory_path)\n",
    "\n",
    "# Sort the list naturally\n",
    "sorted_files_and_directories = natsorted(files_and_directories)\n",
    "\n",
    "# Print the sorted list\n",
    "for item in sorted_files_and_directories:\n",
    "    print(item)\n"
   ]
  },
  {
   "cell_type": "code",
   "execution_count": null,
   "id": "866ef42e",
   "metadata": {},
   "outputs": [],
   "source": []
  }
 ],
 "metadata": {
  "kernelspec": {
   "display_name": "Python 3",
   "language": "python",
   "name": "python3"
  },
  "language_info": {
   "codemirror_mode": {
    "name": "ipython",
    "version": 3
   },
   "file_extension": ".py",
   "mimetype": "text/x-python",
   "name": "python",
   "nbconvert_exporter": "python",
   "pygments_lexer": "ipython3",
   "version": "3.8.8"
  }
 },
 "nbformat": 4,
 "nbformat_minor": 5
}
